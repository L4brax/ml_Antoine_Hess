{
 "cells": [
  {
   "cell_type": "markdown",
   "metadata": {},
   "source": [
    "# rapport final\n"
   ]
  },
  {
   "cell_type": "markdown",
   "metadata": {},
   "source": [
    "---\n",
    "## Evaluateur : Hess Antoine\n",
    "\n",
    "> Mes commentaires seront affichés dans des cellules de textes sous chaque cellules commentés comme celle-ci.\n"
   ]
  },
  {
   "cell_type": "markdown",
   "metadata": {},
   "source": [
    "### Note: Je precise  que j'ai appris à utiliser GIT, GitHub, Python cette semaine et que je n'ai pas fait de math depuis le lycée. Alors soyez indulent ! :)\n",
    "\n"
   ]
  },
  {
   "cell_type": "markdown",
   "metadata": {},
   "source": [
    "Nous commençons par recuperer les données dans les fichiers sources.\n",
    "Nous creons 2 objets python a partir de fichiers CSV.\n",
    "Le detail de chaque ligne est precisé directement dans le code suivant (code recupéré puis commentée de @JeffAbrahamson):"
   ]
  },
  {
   "cell_type": "code",
   "execution_count": 36,
   "metadata": {
    "collapsed": false
   },
   "outputs": [],
   "source": [
    "import matplotlib\n",
    "%matplotlib inline\n",
    "\n",
    "import csv as csv \n",
    "import numpy as np\n",
    "\n",
    "# ouvre le fichier CSV et en cree un objet Python\n",
    "data_all = [] #cree l'objet\n",
    "with open('train.csv') as train_file: #ouvre le fichier csv\n",
    "    csv_reader = csv.reader(train_file, delimiter=',', quotechar='\"') #explore le fichier csv grace a la fonction csv.reader\n",
    "    for row in csv_reader: #pour chaque colonne dans le fichier\n",
    "        data_all.append(row) #cree un colonne et remplis la donnée\n",
    "data_all = np.array(data_all) #cree un tableau\n",
    "data = data_all[1::] #variable qui contient les colonne à partir de la 2nd (1 en code)\n",
    "\n",
    "# Meme chose qu'au dessus\n",
    "test_all = []\n",
    "with open('test.csv') as test_file:\n",
    "    csv_reader = csv.reader(test_file, delimiter=',', quotechar='\"')\n",
    "    for row in csv_reader:\n",
    "        test_all.append(row)\n",
    "test_all = np.array(test_all)\n",
    "test = test_all[1::]"
   ]
  },
  {
   "cell_type": "markdown",
   "metadata": {
    "collapsed": true
   },
   "source": [
    "Code qui permet de recuperer les information sur le nombre de passager total, survivant, seulement sur les hommes puis seulement sur les femmes à bord (code recupéré, modifié, puis commenté de @JeffAbrahamson):"
   ]
  },
  {
   "cell_type": "code",
   "execution_count": 37,
   "metadata": {
    "collapsed": false
   },
   "outputs": [],
   "source": [
    "number_passengers = np.size(data[0::,1].astype(np.float)) #nombre de passager total\n",
    "number_survived = np.sum(data[0::,1].astype(np.float)) #nombre de survivant\n",
    "proportion_survivors = number_survived/number_passengers # proportion de survivant\n",
    "\n",
    "women_only_stats = data[0::,4] == \"female\" #on recupere les lignes concernant seulement les femmmes\n",
    "men_only_stats = data[0::,4] != \"female\" #on recupere les lignes concernant seulement les hommes\n",
    "\n",
    "women_onboard = data[women_only_stats,1].astype(np.float) #on recupere la 2nd collone du tableau seulement pour les femmes  \n",
    "men_onboard = data[men_only_stats,1].astype(np.float) #on recupere la 2nd collone du tableau seulement pour les hommes  \n",
    "total_women=np.size(women_onboard) #nombre de femmes à bord (grace au nombre total de lignes)\n",
    "total_men=np.size(men_onboard) #nombre d'hommes à bord (grace au nombre total de lignes)\n",
    "survived_women=np.sum(women_onboard) #nombre de femmes survivantes (grace au nombre de lignes a 1)\n",
    "survived_men=np.sum(men_onboard) #nombre de d'hommes survivantes (grace au nombre de lignes a 1)\n",
    "\n",
    "proportion_women_survived = survived_women/total_women #proportion de femmes survivantes\n",
    "proportion_men_survived = survived_men/total_men #proportion de femmes survivantes"
   ]
  },
  {
   "cell_type": "markdown",
   "metadata": {},
   "source": [
    "Puis on affiche des stats grace au code precedent:"
   ]
  },
  {
   "cell_type": "code",
   "execution_count": 38,
   "metadata": {
    "collapsed": false
   },
   "outputs": [
    {
     "name": "stdout",
     "output_type": "stream",
     "text": [
      "Le total des passagers est 891 dont à peu pres 35 % de femmes et 64 % d'hommes\n",
      "Le total des survivants est 342 soit 38%\n",
      "233 femmes ont survecues sur 314 soit 74% de toutes les femmes\n",
      "109 hommes ont survecues sur 577 soit 19% de tous les hommes\n"
     ]
    }
   ],
   "source": [
    "print'Le total des passagers est',number_passengers,'dont à peu pres',(total_women*100)/number_passengers,'% de femmes et',(total_men*100)/number_passengers,'% d\\'hommes'\n",
    "print'Le total des survivants est {s:.0f} soit'.format(s=number_survived),'{p:.0f}%'.format(p=proportion_survivors*100)\n",
    "print'{s:.0f}'.format(s=survived_women),'femmes ont survecues sur',total_women,'soit {p:.0f}%'.format(p=proportion_women_survived*100),'de toutes les femmes'\n",
    "print'{s:.0f}'.format(s=survived_men),'hommes ont survecues sur',total_men,'soit {p:.0f}%'.format(p=proportion_men_survived*100),'de tous les hommes'"
   ]
  },
  {
   "cell_type": "markdown",
   "metadata": {},
   "source": [
    "> Ici le code fonctionne, les données concernant le taux de survivants d'hommes et de femmes sont intéréssantes, c'est d'ailleurs l'intérêt de cette étude. Il aurait été, à mon sens, utile de définir au début du cas l'objectif/Intérêt de ce projet."
   ]
  },
  {
   "cell_type": "markdown",
   "metadata": {},
   "source": [
    "---"
   ]
  },
  {
   "cell_type": "markdown",
   "metadata": {},
   "source": [
    "Maintenant nous allons utiliser la librairie Panda et explorer un peu ses fonctionnalitées, on commence par afficher des infos sur chaque colonne:"
   ]
  },
  {
   "cell_type": "code",
   "execution_count": 39,
   "metadata": {
    "collapsed": false
   },
   "outputs": [
    {
     "ename": "NameError",
     "evalue": "name 'df' is not defined",
     "output_type": "error",
     "traceback": [
      "\u001b[0;31m---------------------------------------------------------------------------\u001b[0m",
      "\u001b[0;31mNameError\u001b[0m                                 Traceback (most recent call last)",
      "\u001b[0;32m<ipython-input-39-e0b16803915a>\u001b[0m in \u001b[0;36m<module>\u001b[0;34m()\u001b[0m\n\u001b[1;32m      2\u001b[0m \u001b[1;33m\u001b[0m\u001b[0m\n\u001b[1;32m      3\u001b[0m \u001b[0mdatap\u001b[0m \u001b[1;33m=\u001b[0m \u001b[0mpd\u001b[0m\u001b[1;33m.\u001b[0m\u001b[0mread_csv\u001b[0m\u001b[1;33m(\u001b[0m\u001b[1;34m'train.csv'\u001b[0m\u001b[1;33m,\u001b[0m \u001b[0mheader\u001b[0m\u001b[1;33m=\u001b[0m\u001b[1;36m0\u001b[0m\u001b[1;33m)\u001b[0m \u001b[1;31m#contient toutes les données issue de train.csv, ces données sont maintenant exploitable avec panda\u001b[0m\u001b[1;33m\u001b[0m\u001b[0m\n\u001b[0;32m----> 4\u001b[0;31m \u001b[0mdf\u001b[0m\u001b[1;33m.\u001b[0m\u001b[0minfo\u001b[0m\u001b[1;33m(\u001b[0m\u001b[1;33m)\u001b[0m \u001b[1;31m#affiche chaque colonne et des infos (type, nb valeur, nul ou pas)\u001b[0m\u001b[1;33m\u001b[0m\u001b[0m\n\u001b[0m",
      "\u001b[0;31mNameError\u001b[0m: name 'df' is not defined"
     ]
    }
   ],
   "source": [
    "import pandas as pd\n",
    "\n",
    "datap = pd.read_csv('train.csv', header=0) #contient toutes les données issue de train.csv, ces données sont maintenant exploitable avec panda\n",
    "df.info() #affiche chaque colonne et des infos (type, nb valeur, nul ou pas)"
   ]
  },
  {
   "cell_type": "markdown",
   "metadata": {},
   "source": [
    "> Le code ici ne fonctionne pas. Le dataframe *df* n'éxiste pas. Tu as dû utiliser un dataframe df lors de tes précédents tests, le kernel avait alors toujours un objet df en mémoire et tu n'as pas eu d'erreurs à ce moment. Il faut utiliser le code suivant :"
   ]
  },
  {
   "cell_type": "code",
   "execution_count": 40,
   "metadata": {
    "collapsed": false
   },
   "outputs": [
    {
     "name": "stdout",
     "output_type": "stream",
     "text": [
      "<class 'pandas.core.frame.DataFrame'>\n",
      "RangeIndex: 891 entries, 0 to 890\n",
      "Data columns (total 12 columns):\n",
      "PassengerId    891 non-null int64\n",
      "Survived       891 non-null int64\n",
      "Pclass         891 non-null int64\n",
      "Name           891 non-null object\n",
      "Sex            891 non-null object\n",
      "Age            714 non-null float64\n",
      "SibSp          891 non-null int64\n",
      "Parch          891 non-null int64\n",
      "Ticket         891 non-null object\n",
      "Fare           891 non-null float64\n",
      "Cabin          204 non-null object\n",
      "Embarked       889 non-null object\n",
      "dtypes: float64(2), int64(5), object(5)\n",
      "memory usage: 83.6+ KB\n"
     ]
    }
   ],
   "source": [
    "datap.info()"
   ]
  },
  {
   "cell_type": "code",
   "execution_count": 41,
   "metadata": {
    "collapsed": false
   },
   "outputs": [
    {
     "data": {
      "text/html": [
       "<div>\n",
       "<table border=\"1\" class=\"dataframe\">\n",
       "  <thead>\n",
       "    <tr style=\"text-align: right;\">\n",
       "      <th></th>\n",
       "      <th>PassengerId</th>\n",
       "      <th>Survived</th>\n",
       "      <th>Pclass</th>\n",
       "      <th>Age</th>\n",
       "      <th>SibSp</th>\n",
       "      <th>Parch</th>\n",
       "      <th>Fare</th>\n",
       "    </tr>\n",
       "  </thead>\n",
       "  <tbody>\n",
       "    <tr>\n",
       "      <th>count</th>\n",
       "      <td>891.000000</td>\n",
       "      <td>891.000000</td>\n",
       "      <td>891.000000</td>\n",
       "      <td>714.000000</td>\n",
       "      <td>891.000000</td>\n",
       "      <td>891.000000</td>\n",
       "      <td>891.000000</td>\n",
       "    </tr>\n",
       "    <tr>\n",
       "      <th>mean</th>\n",
       "      <td>446.000000</td>\n",
       "      <td>0.383838</td>\n",
       "      <td>2.308642</td>\n",
       "      <td>29.699118</td>\n",
       "      <td>0.523008</td>\n",
       "      <td>0.381594</td>\n",
       "      <td>32.204208</td>\n",
       "    </tr>\n",
       "    <tr>\n",
       "      <th>std</th>\n",
       "      <td>257.353842</td>\n",
       "      <td>0.486592</td>\n",
       "      <td>0.836071</td>\n",
       "      <td>14.526497</td>\n",
       "      <td>1.102743</td>\n",
       "      <td>0.806057</td>\n",
       "      <td>49.693429</td>\n",
       "    </tr>\n",
       "    <tr>\n",
       "      <th>min</th>\n",
       "      <td>1.000000</td>\n",
       "      <td>0.000000</td>\n",
       "      <td>1.000000</td>\n",
       "      <td>0.420000</td>\n",
       "      <td>0.000000</td>\n",
       "      <td>0.000000</td>\n",
       "      <td>0.000000</td>\n",
       "    </tr>\n",
       "    <tr>\n",
       "      <th>25%</th>\n",
       "      <td>223.500000</td>\n",
       "      <td>0.000000</td>\n",
       "      <td>2.000000</td>\n",
       "      <td>NaN</td>\n",
       "      <td>0.000000</td>\n",
       "      <td>0.000000</td>\n",
       "      <td>7.910400</td>\n",
       "    </tr>\n",
       "    <tr>\n",
       "      <th>50%</th>\n",
       "      <td>446.000000</td>\n",
       "      <td>0.000000</td>\n",
       "      <td>3.000000</td>\n",
       "      <td>NaN</td>\n",
       "      <td>0.000000</td>\n",
       "      <td>0.000000</td>\n",
       "      <td>14.454200</td>\n",
       "    </tr>\n",
       "    <tr>\n",
       "      <th>75%</th>\n",
       "      <td>668.500000</td>\n",
       "      <td>1.000000</td>\n",
       "      <td>3.000000</td>\n",
       "      <td>NaN</td>\n",
       "      <td>1.000000</td>\n",
       "      <td>0.000000</td>\n",
       "      <td>31.000000</td>\n",
       "    </tr>\n",
       "    <tr>\n",
       "      <th>max</th>\n",
       "      <td>891.000000</td>\n",
       "      <td>1.000000</td>\n",
       "      <td>3.000000</td>\n",
       "      <td>80.000000</td>\n",
       "      <td>8.000000</td>\n",
       "      <td>6.000000</td>\n",
       "      <td>512.329200</td>\n",
       "    </tr>\n",
       "  </tbody>\n",
       "</table>\n",
       "</div>"
      ],
      "text/plain": [
       "       PassengerId    Survived      Pclass         Age       SibSp  \\\n",
       "count   891.000000  891.000000  891.000000  714.000000  891.000000   \n",
       "mean    446.000000    0.383838    2.308642   29.699118    0.523008   \n",
       "std     257.353842    0.486592    0.836071   14.526497    1.102743   \n",
       "min       1.000000    0.000000    1.000000    0.420000    0.000000   \n",
       "25%     223.500000    0.000000    2.000000         NaN    0.000000   \n",
       "50%     446.000000    0.000000    3.000000         NaN    0.000000   \n",
       "75%     668.500000    1.000000    3.000000         NaN    1.000000   \n",
       "max     891.000000    1.000000    3.000000   80.000000    8.000000   \n",
       "\n",
       "            Parch        Fare  \n",
       "count  891.000000  891.000000  \n",
       "mean     0.381594   32.204208  \n",
       "std      0.806057   49.693429  \n",
       "min      0.000000    0.000000  \n",
       "25%      0.000000    7.910400  \n",
       "50%      0.000000   14.454200  \n",
       "75%      0.000000   31.000000  \n",
       "max      6.000000  512.329200  "
      ]
     },
     "execution_count": 41,
     "metadata": {},
     "output_type": "execute_result"
    }
   ],
   "source": [
    "datap.describe() #Prend chaque colonne numerique du tableau et affiche des information (total,moy,ecart type,val mini,val max...)"
   ]
  },
  {
   "cell_type": "markdown",
   "metadata": {},
   "source": [
    "> Ce tableau est en effet important à afficher car il nous donne plusieurs informations importantes. Il aurait peut-être été bon de les préciser, en expliquant par exemple que nous avons des passagers pour lesquels nous n'avons pas d'âge. On peut aussi mettre en valeur les valeurs maximales et minimales afin de voir si il à déjà des valeurs abérentes ou pas, comme par exemple une valeure maximale pour l'age de plus de 150 ans (ce qui n'est pas le cas ici).\n",
    "\n",
    "> Je pense qu'il est aussi intéréssant d'afficher quelques ligne du dataframe afin de voir et comprendre les données, avec la méthode head() :"
   ]
  },
  {
   "cell_type": "code",
   "execution_count": 42,
   "metadata": {
    "collapsed": false
   },
   "outputs": [
    {
     "data": {
      "text/html": [
       "<div>\n",
       "<table border=\"1\" class=\"dataframe\">\n",
       "  <thead>\n",
       "    <tr style=\"text-align: right;\">\n",
       "      <th></th>\n",
       "      <th>PassengerId</th>\n",
       "      <th>Survived</th>\n",
       "      <th>Pclass</th>\n",
       "      <th>Name</th>\n",
       "      <th>Sex</th>\n",
       "      <th>Age</th>\n",
       "      <th>SibSp</th>\n",
       "      <th>Parch</th>\n",
       "      <th>Ticket</th>\n",
       "      <th>Fare</th>\n",
       "      <th>Cabin</th>\n",
       "      <th>Embarked</th>\n",
       "    </tr>\n",
       "  </thead>\n",
       "  <tbody>\n",
       "    <tr>\n",
       "      <th>0</th>\n",
       "      <td>1</td>\n",
       "      <td>0</td>\n",
       "      <td>3</td>\n",
       "      <td>Braund, Mr. Owen Harris</td>\n",
       "      <td>male</td>\n",
       "      <td>22.0</td>\n",
       "      <td>1</td>\n",
       "      <td>0</td>\n",
       "      <td>A/5 21171</td>\n",
       "      <td>7.2500</td>\n",
       "      <td>NaN</td>\n",
       "      <td>S</td>\n",
       "    </tr>\n",
       "    <tr>\n",
       "      <th>1</th>\n",
       "      <td>2</td>\n",
       "      <td>1</td>\n",
       "      <td>1</td>\n",
       "      <td>Cumings, Mrs. John Bradley (Florence Briggs Th...</td>\n",
       "      <td>female</td>\n",
       "      <td>38.0</td>\n",
       "      <td>1</td>\n",
       "      <td>0</td>\n",
       "      <td>PC 17599</td>\n",
       "      <td>71.2833</td>\n",
       "      <td>C85</td>\n",
       "      <td>C</td>\n",
       "    </tr>\n",
       "    <tr>\n",
       "      <th>2</th>\n",
       "      <td>3</td>\n",
       "      <td>1</td>\n",
       "      <td>3</td>\n",
       "      <td>Heikkinen, Miss. Laina</td>\n",
       "      <td>female</td>\n",
       "      <td>26.0</td>\n",
       "      <td>0</td>\n",
       "      <td>0</td>\n",
       "      <td>STON/O2. 3101282</td>\n",
       "      <td>7.9250</td>\n",
       "      <td>NaN</td>\n",
       "      <td>S</td>\n",
       "    </tr>\n",
       "    <tr>\n",
       "      <th>3</th>\n",
       "      <td>4</td>\n",
       "      <td>1</td>\n",
       "      <td>1</td>\n",
       "      <td>Futrelle, Mrs. Jacques Heath (Lily May Peel)</td>\n",
       "      <td>female</td>\n",
       "      <td>35.0</td>\n",
       "      <td>1</td>\n",
       "      <td>0</td>\n",
       "      <td>113803</td>\n",
       "      <td>53.1000</td>\n",
       "      <td>C123</td>\n",
       "      <td>S</td>\n",
       "    </tr>\n",
       "    <tr>\n",
       "      <th>4</th>\n",
       "      <td>5</td>\n",
       "      <td>0</td>\n",
       "      <td>3</td>\n",
       "      <td>Allen, Mr. William Henry</td>\n",
       "      <td>male</td>\n",
       "      <td>35.0</td>\n",
       "      <td>0</td>\n",
       "      <td>0</td>\n",
       "      <td>373450</td>\n",
       "      <td>8.0500</td>\n",
       "      <td>NaN</td>\n",
       "      <td>S</td>\n",
       "    </tr>\n",
       "  </tbody>\n",
       "</table>\n",
       "</div>"
      ],
      "text/plain": [
       "   PassengerId  Survived  Pclass  \\\n",
       "0            1         0       3   \n",
       "1            2         1       1   \n",
       "2            3         1       3   \n",
       "3            4         1       1   \n",
       "4            5         0       3   \n",
       "\n",
       "                                                Name     Sex   Age  SibSp  \\\n",
       "0                            Braund, Mr. Owen Harris    male  22.0      1   \n",
       "1  Cumings, Mrs. John Bradley (Florence Briggs Th...  female  38.0      1   \n",
       "2                             Heikkinen, Miss. Laina  female  26.0      0   \n",
       "3       Futrelle, Mrs. Jacques Heath (Lily May Peel)  female  35.0      1   \n",
       "4                           Allen, Mr. William Henry    male  35.0      0   \n",
       "\n",
       "   Parch            Ticket     Fare Cabin Embarked  \n",
       "0      0         A/5 21171   7.2500   NaN        S  \n",
       "1      0          PC 17599  71.2833   C85        C  \n",
       "2      0  STON/O2. 3101282   7.9250   NaN        S  \n",
       "3      0            113803  53.1000  C123        S  \n",
       "4      0            373450   8.0500   NaN        S  "
      ]
     },
     "execution_count": 42,
     "metadata": {},
     "output_type": "execute_result"
    }
   ],
   "source": [
    "datap.head()"
   ]
  },
  {
   "cell_type": "markdown",
   "metadata": {},
   "source": [
    "Grace a la librairie \"pylab\" on peux afficher des graphiques (example ici avec le nombre de passager ayant 1,2,3... membre de sa famille avec lui sur le bateau):"
   ]
  },
  {
   "cell_type": "code",
   "execution_count": 43,
   "metadata": {
    "collapsed": false,
    "scrolled": true
   },
   "outputs": [
    {
     "data": {
      "image/png": "[encoded data removed]",
      "text/plain": [
       "<matplotlib.figure.Figure at 0x9dda080>"
      ]
     },
     "metadata": {},
     "output_type": "display_data"
    }
   ],
   "source": [
    "import pylab as P\n",
    "datap['SibSp'].hist() #cree un tableau avec les infos de la colonne SibSp\n",
    "P.ylabel('Nombre de passager') #nomme l'axe y\n",
    "P.xlabel('nombre de freres/soeurs/parents') #nomme l'axe x\n",
    "P.show() #affiche te tableau"
   ]
  },
  {
   "cell_type": "markdown",
   "metadata": {},
   "source": [
    "> Dans un but d'exploration de données, ce tableau est utile est montre que la distribution des valeures de SibSp n'est pas abérante. Le graphique est cependant difficile à lire du fait que la légende se divise en 8 alors qu'il se divise en 10 classes. Afin de régler ce problème, j'ajouterais à la méthode hist le paramètre *bins=8* :"
   ]
  },
  {
   "cell_type": "code",
   "execution_count": 44,
   "metadata": {
    "collapsed": false
   },
   "outputs": [
    {
     "data": {
      "image/png": "[encoded data removed]",
      "text/plain": [
       "<matplotlib.figure.Figure at 0xb75d5f8>"
      ]
     },
     "metadata": {},
     "output_type": "display_data"
    }
   ],
   "source": [
    "datap['SibSp'].hist(bins=8) #cree un tableau avec les infos de la colonne SibSp\n",
    "P.ylabel('Nombre de passager') #nomme l'axe y\n",
    "P.xlabel('nombre de freres/soeurs/parents') #nomme l'axe x\n",
    "P.show() #affiche te tableau"
   ]
  },
  {
   "cell_type": "markdown",
   "metadata": {},
   "source": [
    "Panda permet aussi de trier des données. En effet les lot de données peuvent arriver avec des cellules vides, mal classées il faut dabord les trier/reformater. exemple ci dessous avec le rajout d'une colonne \"gender\" qui contient 0 ou 1 en fonction du sexe du passager (code recupéré puis commenté de @JeffAbrahamson):"
   ]
  },
  {
   "cell_type": "code",
   "execution_count": 45,
   "metadata": {
    "collapsed": false
   },
   "outputs": [
    {
     "data": {
      "text/html": [
       "<div>\n",
       "<table border=\"1\" class=\"dataframe\">\n",
       "  <thead>\n",
       "    <tr style=\"text-align: right;\">\n",
       "      <th></th>\n",
       "      <th>PassengerId</th>\n",
       "      <th>Survived</th>\n",
       "      <th>Pclass</th>\n",
       "      <th>Age</th>\n",
       "      <th>SibSp</th>\n",
       "      <th>Parch</th>\n",
       "      <th>Fare</th>\n",
       "      <th>Gender</th>\n",
       "    </tr>\n",
       "  </thead>\n",
       "  <tbody>\n",
       "    <tr>\n",
       "      <th>count</th>\n",
       "      <td>891.000000</td>\n",
       "      <td>891.000000</td>\n",
       "      <td>891.000000</td>\n",
       "      <td>714.000000</td>\n",
       "      <td>891.000000</td>\n",
       "      <td>891.000000</td>\n",
       "      <td>891.000000</td>\n",
       "      <td>891.000000</td>\n",
       "    </tr>\n",
       "    <tr>\n",
       "      <th>mean</th>\n",
       "      <td>446.000000</td>\n",
       "      <td>0.383838</td>\n",
       "      <td>2.308642</td>\n",
       "      <td>29.699118</td>\n",
       "      <td>0.523008</td>\n",
       "      <td>0.381594</td>\n",
       "      <td>32.204208</td>\n",
       "      <td>0.647587</td>\n",
       "    </tr>\n",
       "    <tr>\n",
       "      <th>std</th>\n",
       "      <td>257.353842</td>\n",
       "      <td>0.486592</td>\n",
       "      <td>0.836071</td>\n",
       "      <td>14.526497</td>\n",
       "      <td>1.102743</td>\n",
       "      <td>0.806057</td>\n",
       "      <td>49.693429</td>\n",
       "      <td>0.477989</td>\n",
       "    </tr>\n",
       "    <tr>\n",
       "      <th>min</th>\n",
       "      <td>1.000000</td>\n",
       "      <td>0.000000</td>\n",
       "      <td>1.000000</td>\n",
       "      <td>0.420000</td>\n",
       "      <td>0.000000</td>\n",
       "      <td>0.000000</td>\n",
       "      <td>0.000000</td>\n",
       "      <td>0.000000</td>\n",
       "    </tr>\n",
       "    <tr>\n",
       "      <th>25%</th>\n",
       "      <td>223.500000</td>\n",
       "      <td>0.000000</td>\n",
       "      <td>2.000000</td>\n",
       "      <td>NaN</td>\n",
       "      <td>0.000000</td>\n",
       "      <td>0.000000</td>\n",
       "      <td>7.910400</td>\n",
       "      <td>0.000000</td>\n",
       "    </tr>\n",
       "    <tr>\n",
       "      <th>50%</th>\n",
       "      <td>446.000000</td>\n",
       "      <td>0.000000</td>\n",
       "      <td>3.000000</td>\n",
       "      <td>NaN</td>\n",
       "      <td>0.000000</td>\n",
       "      <td>0.000000</td>\n",
       "      <td>14.454200</td>\n",
       "      <td>1.000000</td>\n",
       "    </tr>\n",
       "    <tr>\n",
       "      <th>75%</th>\n",
       "      <td>668.500000</td>\n",
       "      <td>1.000000</td>\n",
       "      <td>3.000000</td>\n",
       "      <td>NaN</td>\n",
       "      <td>1.000000</td>\n",
       "      <td>0.000000</td>\n",
       "      <td>31.000000</td>\n",
       "      <td>1.000000</td>\n",
       "    </tr>\n",
       "    <tr>\n",
       "      <th>max</th>\n",
       "      <td>891.000000</td>\n",
       "      <td>1.000000</td>\n",
       "      <td>3.000000</td>\n",
       "      <td>80.000000</td>\n",
       "      <td>8.000000</td>\n",
       "      <td>6.000000</td>\n",
       "      <td>512.329200</td>\n",
       "      <td>1.000000</td>\n",
       "    </tr>\n",
       "  </tbody>\n",
       "</table>\n",
       "</div>"
      ],
      "text/plain": [
       "       PassengerId    Survived      Pclass         Age       SibSp  \\\n",
       "count   891.000000  891.000000  891.000000  714.000000  891.000000   \n",
       "mean    446.000000    0.383838    2.308642   29.699118    0.523008   \n",
       "std     257.353842    0.486592    0.836071   14.526497    1.102743   \n",
       "min       1.000000    0.000000    1.000000    0.420000    0.000000   \n",
       "25%     223.500000    0.000000    2.000000         NaN    0.000000   \n",
       "50%     446.000000    0.000000    3.000000         NaN    0.000000   \n",
       "75%     668.500000    1.000000    3.000000         NaN    1.000000   \n",
       "max     891.000000    1.000000    3.000000   80.000000    8.000000   \n",
       "\n",
       "            Parch        Fare      Gender  \n",
       "count  891.000000  891.000000  891.000000  \n",
       "mean     0.381594   32.204208    0.647587  \n",
       "std      0.806057   49.693429    0.477989  \n",
       "min      0.000000    0.000000    0.000000  \n",
       "25%      0.000000    7.910400    0.000000  \n",
       "50%      0.000000   14.454200    1.000000  \n",
       "75%      0.000000   31.000000    1.000000  \n",
       "max      6.000000  512.329200    1.000000  "
      ]
     },
     "execution_count": 45,
     "metadata": {},
     "output_type": "execute_result"
    }
   ],
   "source": [
    "datap['Gender'] = 4 #Ajout d'une colonne\n",
    "datap['Gender'] = datap['Sex'].map( {'female': 0, 'male': 1} ).astype(int) #y importe la valeur 0 ou 1 en fonction du sex du passager\n",
    "datap.describe()"
   ]
  },
  {
   "cell_type": "markdown",
   "metadata": {},
   "source": [
    "Grace au nettayage de notre colonne \"sexe\" on peux maintenant comparer dans un tableau le prix payé par un homme et par une femme, on constate qu'il y a presque un equilibre parfait (sans doute parce qu'ils etaient en couple et ont payé le meme billet):"
   ]
  },
  {
   "cell_type": "code",
   "execution_count": 46,
   "metadata": {
    "collapsed": false
   },
   "outputs": [
    {
     "data": {
      "image/png": "[encoded data removed]",
      "text/plain": [
       "<matplotlib.figure.Figure at 0xaa59320>"
      ]
     },
     "metadata": {},
     "output_type": "display_data"
    }
   ],
   "source": [
    "import matplotlib.pyplot as plt\n",
    "\n",
    "#tableau sur le rapport sex/prix pour tous les passagées\n",
    "y = datap['Gender'] #donnée en axe y\n",
    "x = datap['Fare'] #donnée en axe x\n",
    "plt.figure()\n",
    "plt.title('sex v prix') #titre du tableau\n",
    "plt.xlabel('prix') #nomme l'axe x\n",
    "plt.ylabel(u'femme:0/homme:1') #nomme l'axe y\n",
    "plt.plot(x, y, 'k.') #place les point en fonction des données des variables x et y\n",
    "plt.axis([-0.5, 520, -0.5, 1.5]) #fixe la taille du tableau (au niveau valeurs)\n",
    "plt.grid(True) #affiche la grille\n",
    "plt.show() #affiche le tableau"
   ]
  },
  {
   "cell_type": "markdown",
   "metadata": {},
   "source": [
    "J'ai ensuite produit quelques autres tableaux:\n",
    "*  rapport age/survie des plus de 50 ans: on constate qu'a partir de 64 ans les passagées  sont tous decedé\n",
    "*  rapport age/classe pour les moins de 30 ans: on voit qu'une majorité de -de 15 ans on logé en 3eme classe\n",
    "*  rapport nb de membre de la famille/classe: on voit qu'a partir de 4 personnes dans un famille  les membres logent toujours en 3eme classe"
   ]
  },
  {
   "cell_type": "code",
   "execution_count": 47,
   "metadata": {
    "collapsed": false,
    "scrolled": true
   },
   "outputs": [
    {
     "data": {
      "image/png": "[encoded data removed]",
      "text/plain": [
       "<matplotlib.figure.Figure at 0xac7c240>"
      ]
     },
     "metadata": {},
     "output_type": "display_data"
    },
    {
     "data": {
      "image/png": "[encoded data removed]",
      "text/plain": [
       "<matplotlib.figure.Figure at 0xacf8da0>"
      ]
     },
     "metadata": {},
     "output_type": "display_data"
    },
    {
     "data": {
      "image/png": "[encoded data removed]",
      "text/plain": [
       "<matplotlib.figure.Figure at 0xa0ad208>"
      ]
     },
     "metadata": {},
     "output_type": "display_data"
    }
   ],
   "source": [
    "#tableau sur le rapport age/survie pour les passagées de plus de 50 ans\n",
    "y = datap['Survived']\n",
    "x = datap['Age']\n",
    "plt.figure()\n",
    "plt.title('age v survivant >50 ans')\n",
    "plt.xlabel('Age')\n",
    "plt.ylabel(u'survecu (0:non/1:oui)')\n",
    "plt.plot(x, y, 'k.')\n",
    "plt.axis([50, 80, -0.5, 1.5])\n",
    "plt.grid(True)\n",
    "plt.show()\n",
    "\n",
    "#tableau sur le rapport age/classe pour les passagées de moins de 30 ans\n",
    "y = datap['Pclass']\n",
    "x = datap['Age']\n",
    "plt.figure()\n",
    "plt.title('Age v classe <30 ans')\n",
    "plt.xlabel('Age')\n",
    "plt.ylabel(u'Classe')\n",
    "plt.plot(x, y, 'k.')\n",
    "plt.axis([0, 30, 0, 4])\n",
    "plt.grid(True)\n",
    "plt.show()\n",
    "\n",
    "#tableau sur le rapport famille/classe pour tous les passagées\n",
    "y = datap['Pclass']\n",
    "x = datap['SibSp']\n",
    "plt.figure()\n",
    "plt.title('famille v classe')\n",
    "plt.xlabel('nb membre famille')\n",
    "plt.ylabel(u'Classe')\n",
    "plt.plot(x, y, 'k.')\n",
    "plt.axis([-0.5, 9, 0.5, 3.5])\n",
    "plt.grid(True)\n",
    "plt.show()"
   ]
  },
  {
   "cell_type": "markdown",
   "metadata": {
    "collapsed": true
   },
   "source": [
    "> En ce qui concerne ces 4 derniers modèles, je dirais que le plus intéréssant est celui mettant en relation l'age des passagers et le fait qu'il survivent. Cependant, dans ces 4 modèles, ta **variab expliquée** (variable en abscisse) est toujours une **variable qualitative**, c'est à dire ici un booléen ou un binaire. Or, une régréssion linéaire est lisble seulement avec des **variables quantitative**. C'est pourquoi tu obtiens toujours des lignes de points, la valeur est soit 1 soit 0. Impossible alors de tracer une droite de régréssion afin de voir par exemple si le taux de survivants diminue ou monte en fonction de leur age ou du sexe. "
   ]
  },
  {
   "cell_type": "markdown",
   "metadata": {
    "collapsed": true
   },
   "source": [
    "> Dans le cas de **variables quantitatives** pour la **variable expliquée**, il faut utiliser un modèle de régression logistique. Cependant mes compétences en python sont un peu limitées et je ne peux malheuresement pas te fournir un exemple pour le moment."
   ]
  }
 ],
 "metadata": {
  "anaconda-cloud": {},
  "kernelspec": {
   "display_name": "Python [default]",
   "language": "python",
   "name": "python2"
  },
  "language_info": {
   "codemirror_mode": {
    "name": "ipython",
    "version": 2
   },
   "file_extension": ".py",
   "mimetype": "text/x-python",
   "name": "python",
   "nbconvert_exporter": "python",
   "pygments_lexer": "ipython2",
   "version": "2.7.12"
  }
 },
 "nbformat": 4,
 "nbformat_minor": 2
}
